{
 "cells": [
  {
   "cell_type": "markdown",
   "metadata": {},
   "source": [
    "# Super Bowl Prediction"
   ]
  },
  {
   "cell_type": "markdown",
   "metadata": {},
   "source": [
    "## Rams Wins"
   ]
  },
  {
   "cell_type": "markdown",
   "metadata": {},
   "source": [
    "### Result: \n",
    "### Los Angeles Rams VS. New England Patriots:\n",
    "### 29 : 27"
   ]
  },
  {
   "cell_type": "markdown",
   "metadata": {},
   "source": [
    "Unlike to predict the other kinds of categories, to predict the result of sports should use the latest data. The change of player/coach or the strategy/tactic the team uses could heavily affect the prediction. In this case, to preform this prediction for Super Bowl, I use the data from NFL 2018 season.\n",
    "\n",
    "I used all the gaming result as my dataset to develop a linear regression. As we can see in the following, both of the plot and score show a strong linear relationship.\n",
    "\n",
    "Regarding the Game Location, I set it to dummy variables. Since Rams will be the home team, I manually changed it to 1 as HOME, and the Game Location for Patriots is 0 as AWAY.\n",
    "\n",
    "In order to conduct the prediction, I used the average performance of each team (Rams and Patriots) as the values and got the final result of 29:27, Rams wins. I chose the average as the values is beacuse I believe the average could show how the team is currently doing.\n",
    "\n",
    "Please see the following for the prediction model."
   ]
  },
  {
   "cell_type": "code",
   "execution_count": 83,
   "metadata": {},
   "outputs": [],
   "source": [
    "import numpy as np\n",
    "import pandas as pd\n",
    "import matplotlib.pyplot as plt\n",
    "from sklearn import linear_model\n",
    "import seaborn as sns"
   ]
  },
  {
   "cell_type": "code",
   "execution_count": 69,
   "metadata": {},
   "outputs": [],
   "source": [
    "FEATURE_LIST = ['Game Location',\n",
    "                'Team_Rushing',\n",
    "                'Team_Passing', \n",
    "                'Total Team Yards', \n",
    "                'Team_Turnovers', \n",
    "                'Opponent_Passing', \n",
    "                'Opponent_Rushing',\n",
    "                'Total Opponent Yards',\n",
    "                'Opponent_Turnovers']\n",
    "LABEL_COL = 'Team_Score'"
   ]
  },
  {
   "cell_type": "code",
   "execution_count": 70,
   "metadata": {},
   "outputs": [
    {
     "data": {
      "text/html": [
       "<div>\n",
       "<style scoped>\n",
       "    .dataframe tbody tr th:only-of-type {\n",
       "        vertical-align: middle;\n",
       "    }\n",
       "\n",
       "    .dataframe tbody tr th {\n",
       "        vertical-align: top;\n",
       "    }\n",
       "\n",
       "    .dataframe thead th {\n",
       "        text-align: right;\n",
       "    }\n",
       "</style>\n",
       "<table border=\"1\" class=\"dataframe\">\n",
       "  <thead>\n",
       "    <tr style=\"text-align: right;\">\n",
       "      <th></th>\n",
       "      <th>Team</th>\n",
       "      <th>Opponent</th>\n",
       "      <th>Game Number</th>\n",
       "      <th>Game Location</th>\n",
       "      <th>Team_Score</th>\n",
       "      <th>Opponent_Score</th>\n",
       "      <th>Team_Passing</th>\n",
       "      <th>Team_Rushing</th>\n",
       "      <th>Total Team Yards</th>\n",
       "      <th>Team_Turnovers</th>\n",
       "      <th>Opponent_Passing</th>\n",
       "      <th>Opponent_Rushing</th>\n",
       "      <th>Total Opponent Yards</th>\n",
       "      <th>Opponent_Turnovers</th>\n",
       "    </tr>\n",
       "  </thead>\n",
       "  <tbody>\n",
       "    <tr>\n",
       "      <th>0</th>\n",
       "      <td>Arizona Cardinals</td>\n",
       "      <td>Washington Redskins</td>\n",
       "      <td>1</td>\n",
       "      <td>1</td>\n",
       "      <td>6.0</td>\n",
       "      <td>24.0</td>\n",
       "      <td>145.0</td>\n",
       "      <td>68.0</td>\n",
       "      <td>213</td>\n",
       "      <td>2</td>\n",
       "      <td>247.0</td>\n",
       "      <td>182.0</td>\n",
       "      <td>429</td>\n",
       "      <td>1</td>\n",
       "    </tr>\n",
       "    <tr>\n",
       "      <th>1</th>\n",
       "      <td>Arizona Cardinals</td>\n",
       "      <td>Los Angeles Rams</td>\n",
       "      <td>2</td>\n",
       "      <td>0</td>\n",
       "      <td>0.0</td>\n",
       "      <td>34.0</td>\n",
       "      <td>83.0</td>\n",
       "      <td>54.0</td>\n",
       "      <td>137</td>\n",
       "      <td>1</td>\n",
       "      <td>342.0</td>\n",
       "      <td>90.0</td>\n",
       "      <td>432</td>\n",
       "      <td>1</td>\n",
       "    </tr>\n",
       "    <tr>\n",
       "      <th>2</th>\n",
       "      <td>Arizona Cardinals</td>\n",
       "      <td>Chicago Bears</td>\n",
       "      <td>3</td>\n",
       "      <td>1</td>\n",
       "      <td>14.0</td>\n",
       "      <td>16.0</td>\n",
       "      <td>168.0</td>\n",
       "      <td>53.0</td>\n",
       "      <td>221</td>\n",
       "      <td>4</td>\n",
       "      <td>194.0</td>\n",
       "      <td>122.0</td>\n",
       "      <td>316</td>\n",
       "      <td>2</td>\n",
       "    </tr>\n",
       "    <tr>\n",
       "      <th>3</th>\n",
       "      <td>Arizona Cardinals</td>\n",
       "      <td>Seattle Seahawks</td>\n",
       "      <td>4</td>\n",
       "      <td>1</td>\n",
       "      <td>17.0</td>\n",
       "      <td>20.0</td>\n",
       "      <td>171.0</td>\n",
       "      <td>92.0</td>\n",
       "      <td>263</td>\n",
       "      <td>1</td>\n",
       "      <td>160.0</td>\n",
       "      <td>171.0</td>\n",
       "      <td>331</td>\n",
       "      <td>0</td>\n",
       "    </tr>\n",
       "    <tr>\n",
       "      <th>4</th>\n",
       "      <td>Arizona Cardinals</td>\n",
       "      <td>San Francisco 49ers</td>\n",
       "      <td>5</td>\n",
       "      <td>0</td>\n",
       "      <td>28.0</td>\n",
       "      <td>18.0</td>\n",
       "      <td>164.0</td>\n",
       "      <td>56.0</td>\n",
       "      <td>220</td>\n",
       "      <td>0</td>\n",
       "      <td>300.0</td>\n",
       "      <td>147.0</td>\n",
       "      <td>447</td>\n",
       "      <td>5</td>\n",
       "    </tr>\n",
       "  </tbody>\n",
       "</table>\n",
       "</div>"
      ],
      "text/plain": [
       "                Team             Opponent  Game Number  Game Location  \\\n",
       "0  Arizona Cardinals  Washington Redskins            1              1   \n",
       "1  Arizona Cardinals     Los Angeles Rams            2              0   \n",
       "2  Arizona Cardinals        Chicago Bears            3              1   \n",
       "3  Arizona Cardinals     Seattle Seahawks            4              1   \n",
       "4  Arizona Cardinals  San Francisco 49ers            5              0   \n",
       "\n",
       "   Team_Score  Opponent_Score  Team_Passing  Team_Rushing  Total Team Yards  \\\n",
       "0         6.0            24.0         145.0          68.0               213   \n",
       "1         0.0            34.0          83.0          54.0               137   \n",
       "2        14.0            16.0         168.0          53.0               221   \n",
       "3        17.0            20.0         171.0          92.0               263   \n",
       "4        28.0            18.0         164.0          56.0               220   \n",
       "\n",
       "   Team_Turnovers  Opponent_Passing  Opponent_Rushing  Total Opponent Yards  \\\n",
       "0               2             247.0             182.0                   429   \n",
       "1               1             342.0              90.0                   432   \n",
       "2               4             194.0             122.0                   316   \n",
       "3               1             160.0             171.0                   331   \n",
       "4               0             300.0             147.0                   447   \n",
       "\n",
       "   Opponent_Turnovers  \n",
       "0                   1  \n",
       "1                   1  \n",
       "2                   2  \n",
       "3                   0  \n",
       "4                   5  "
      ]
     },
     "execution_count": 70,
     "metadata": {},
     "output_type": "execute_result"
    }
   ],
   "source": [
    "data = pd.read_excel(\"./NFL+2018+Season+Data.xlsx\")\n",
    "data['Game Location'] = data['Game Location'].map({\"HOME\": 1, \"AWAY\": 0})\n",
    "data.head()"
   ]
  },
  {
   "cell_type": "code",
   "execution_count": 71,
   "metadata": {},
   "outputs": [],
   "source": [
    "X = data[FEATURE_LIST]\n",
    "Y = data[LABEL_COL]"
   ]
  },
  {
   "cell_type": "code",
   "execution_count": 72,
   "metadata": {},
   "outputs": [],
   "source": [
    "X = np.nan_to_num(X)\n",
    "Y = np.nan_to_num(Y)"
   ]
  },
  {
   "cell_type": "code",
   "execution_count": 73,
   "metadata": {},
   "outputs": [
    {
     "data": {
      "text/plain": [
       "LinearRegression(copy_X=True, fit_intercept=True, n_jobs=None,\n",
       "         normalize=False)"
      ]
     },
     "execution_count": 73,
     "metadata": {},
     "output_type": "execute_result"
    }
   ],
   "source": [
    "lm = linear_model.LinearRegression()\n",
    "lm.fit(X, Y)"
   ]
  },
  {
   "cell_type": "code",
   "execution_count": 74,
   "metadata": {},
   "outputs": [
    {
     "name": "stdout",
     "output_type": "stream",
     "text": [
      "[ 1.76858904e-01  3.16540737e-02  1.94117678e-02  5.10658415e-02\n",
      " -1.99993211e+00  7.82409572e-03 -7.74042960e-03  8.36661208e-05\n",
      "  2.18736206e+00]\n",
      "-4.233929727327848\n",
      "0.602634618717184\n"
     ]
    }
   ],
   "source": [
    "print(lm.coef_)\n",
    "print(lm.intercept_)\n",
    "print(lm.score(X,Y))"
   ]
  },
  {
   "cell_type": "code",
   "execution_count": 75,
   "metadata": {
    "scrolled": true
   },
   "outputs": [
    {
     "data": {
      "text/plain": [
       "<matplotlib.collections.PathCollection at 0x1a17d02eb8>"
      ]
     },
     "execution_count": 75,
     "metadata": {},
     "output_type": "execute_result"
    },
    {
     "data": {
      "image/png": "[encoded data removed]",
      "text/plain": [
       "<Figure size 432x288 with 1 Axes>"
      ]
     },
     "metadata": {
      "needs_background": "light"
     },
     "output_type": "display_data"
    }
   ],
   "source": [
    "plt.scatter(Y, lm.predict(X))"
   ]
  },
  {
   "cell_type": "code",
   "execution_count": 76,
   "metadata": {},
   "outputs": [],
   "source": [
    "d1 = data.groupby(by = \"Team\").mean()\n",
    "X_d1 = d1[FEATURE_LIST]\n",
    "Y_d1 = d1[LABEL_COL]"
   ]
  },
  {
   "cell_type": "code",
   "execution_count": 84,
   "metadata": {},
   "outputs": [
    {
     "data": {
      "text/plain": [
       "<matplotlib.axes._subplots.AxesSubplot at 0x1a183aa978>"
      ]
     },
     "execution_count": 84,
     "metadata": {},
     "output_type": "execute_result"
    },
    {
     "data": {
      "image/png": "[encoded data removed]",
      "text/plain": [
       "<Figure size 792x648 with 2 Axes>"
      ]
     },
     "metadata": {
      "needs_background": "light"
     },
     "output_type": "display_data"
    }
   ],
   "source": [
    "corr = d1.corr()\n",
    "mask = np.zeros_like(corr, dtype=np.bool)\n",
    "mask[np.triu_indices_from(mask)] = True\n",
    "f, ax = plt.subplots(figsize=(11, 9))\n",
    "cmap = sns.diverging_palette(220, 10, as_cmap=True)\n",
    "sns.heatmap(corr, mask=mask, cmap=cmap, vmax=.3, center=0,\n",
    "            square=True, linewidths=.5, cbar_kws={\"shrink\": .5})"
   ]
  },
  {
   "cell_type": "code",
   "execution_count": 77,
   "metadata": {},
   "outputs": [
    {
     "data": {
      "text/plain": [
       "<matplotlib.collections.PathCollection at 0x1a17db92e8>"
      ]
     },
     "execution_count": 77,
     "metadata": {},
     "output_type": "execute_result"
    },
    {
     "data": {
      "image/png": "[encoded data removed]",
      "text/plain": [
       "<Figure size 432x288 with 1 Axes>"
      ]
     },
     "metadata": {
      "needs_background": "light"
     },
     "output_type": "display_data"
    }
   ],
   "source": [
    "plt.scatter(Y_d1, lm.predict(X_d1))"
   ]
  },
  {
   "cell_type": "code",
   "execution_count": 78,
   "metadata": {},
   "outputs": [],
   "source": [
    "d1.loc['Los Angeles Rams']['Game Location'] = 1\n",
    "x = d1.loc['Los Angeles Rams']\n",
    "y = x[LABEL_COL]\n",
    "x = x[FEATURE_LIST]"
   ]
  },
  {
   "cell_type": "code",
   "execution_count": 79,
   "metadata": {},
   "outputs": [
    {
     "data": {
      "text/plain": [
       "array([28.88929213])"
      ]
     },
     "execution_count": 79,
     "metadata": {},
     "output_type": "execute_result"
    }
   ],
   "source": [
    "lm.predict(x.values.reshape(1, -1))"
   ]
  },
  {
   "cell_type": "code",
   "execution_count": 80,
   "metadata": {},
   "outputs": [],
   "source": [
    "d1.loc['New England Patriots']['Game Location'] = 0\n",
    "x = d1.loc['New England Patriots']\n",
    "y = x[LABEL_COL]\n",
    "x = x[FEATURE_LIST]"
   ]
  },
  {
   "cell_type": "code",
   "execution_count": 81,
   "metadata": {},
   "outputs": [
    {
     "data": {
      "text/plain": [
       "array([27.17751352])"
      ]
     },
     "execution_count": 81,
     "metadata": {},
     "output_type": "execute_result"
    }
   ],
   "source": [
    "lm.predict(x.values.reshape(1, -1))"
   ]
  }
 ],
 "metadata": {
  "kernelspec": {
   "display_name": "Python 3",
   "language": "python",
   "name": "python3"
  },
  "language_info": {
   "codemirror_mode": {
    "name": "ipython",
    "version": 3
   },
   "file_extension": ".py",
   "mimetype": "text/x-python",
   "name": "python",
   "nbconvert_exporter": "python",
   "pygments_lexer": "ipython3",
   "version": "3.7.3"
  }
 },
 "nbformat": 4,
 "nbformat_minor": 2
}
